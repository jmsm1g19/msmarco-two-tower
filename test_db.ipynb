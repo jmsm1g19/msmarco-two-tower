{
 "cells": [
  {
   "cell_type": "code",
   "execution_count": 2,
   "metadata": {},
   "outputs": [],
   "source": [
    "import sqlite3\n",
    "\n",
    "# Connect to the database\n",
    "conn = sqlite3.connect(\"msmarco_dataset.db\")\n",
    "cursor = conn.cursor()\n"
   ]
  },
  {
   "cell_type": "code",
   "execution_count": 9,
   "metadata": {},
   "outputs": [
    {
     "name": "stdout",
     "output_type": "stream",
     "text": [
      "Number of duplicate query_id entries: 0\n"
     ]
    }
   ],
   "source": [
    "cursor.execute(\"\"\"\n",
    "    SELECT query_id, COUNT(*)\n",
    "    FROM queries\n",
    "    GROUP BY query_id\n",
    "    HAVING COUNT(*) > 1\n",
    "\"\"\")\n",
    "duplicates = cursor.fetchall()\n",
    "print(\"Number of duplicate query_id entries:\", len(duplicates))\n"
   ]
  },
  {
   "cell_type": "code",
   "execution_count": 2,
   "metadata": {},
   "outputs": [
    {
     "name": "stdout",
     "output_type": "stream",
     "text": [
      "Number of records in queries table: 1010916\n",
      "Number of records in passages table: 8841823\n",
      "Number of records in query_passage_map table: 10069342\n"
     ]
    }
   ],
   "source": [
    "# Check record counts for each table\n",
    "cursor.execute(\"SELECT COUNT(*) FROM queries\")\n",
    "print(\"Number of records in queries table:\", cursor.fetchone()[0])\n",
    "\n",
    "cursor.execute(\"SELECT COUNT(*) FROM passages\")\n",
    "print(\"Number of records in passages table:\", cursor.fetchone()[0])\n",
    "\n",
    "cursor.execute(\"SELECT COUNT(*) FROM query_passage_map\")\n",
    "print(\"Number of records in query_passage_map table:\", cursor.fetchone()[0])\n"
   ]
  },
  {
   "cell_type": "code",
   "execution_count": 3,
   "metadata": {},
   "outputs": [
    {
     "name": "stdout",
     "output_type": "stream",
     "text": [
      "Sample records from queries table:\n",
      "(1, ' A potlatch is considered an example of ', 'DESCRIPTION', 'train')\n",
      "(2, ' Androgen receptor define', 'DESCRIPTION', 'validation')\n",
      "(3, ' Another name for the primary visual cortex is ', 'DESCRIPTION', 'train')\n",
      "(4, ' Defining alcoholism as a disease is associated with Jellinek', 'ENTITY', 'train')\n",
      "(5, ' ECT is a treatment that is used for ', 'DESCRIPTION', 'train')\n"
     ]
    }
   ],
   "source": [
    "# Display a sample of records from the queries table\n",
    "cursor.execute(\"SELECT * FROM queries LIMIT 5\")\n",
    "print(\"Sample records from queries table:\")\n",
    "for row in cursor.fetchall():\n",
    "    print(row)\n"
   ]
  },
  {
   "cell_type": "code",
   "execution_count": 4,
   "metadata": {},
   "outputs": [
    {
     "name": "stdout",
     "output_type": "stream",
     "text": [
      "Sample records from passages table:\n",
      "(1035416430167, 'Local Income Tax Information. Employers with worksites located in Pennsylvania are required to withhold and remit the local Earned Income Tax (EIT) and Local Services Tax (LST) on behalf of their employees working in PA. Examples of business worksites include, but are not limited to: factories, warehouses, branches, offices and residences of home-based employees.', 'https://dced.pa.gov/local-government/local-income-tax-information/')\n",
      "(2351344907730, \"As another example, the accumulated depreciation account is a contra asset account, and it is paired with the fixed assets account. When combined, the two accounts show the net book value of a company's fixed assets.he purpose of a contra asset account is to store a reserve that reduces the balance in the paired account. By stating this information separately in a contra asset account, a user of financial information can see the extent to which a paired asset should be reduced.\", 'http://www.accountingtools.com/questions-and-answers/what-is-a-contra-asset.html')\n",
      "(2693098160786, 'How to Register. Individuals may register at any of the OHRV registration agents located throughout the state, and must apply in person. Registrations also may be purchased at Fish and Game headquarters. Forms may be requested through the mail by contacting Fish and Game at (603) 271-4300. NH OHRV Agent List.', 'http://www.wildlife.state.nh.us/ohrv/registration.html')\n",
      "(3813685717027, 'India-based messaging app Nimbuzz brings the full package: video/voice calling, file sharing, chat messaging, games and support for a range of platforms. Users can also purchase Nimbuzz Out credits to use for calling landlines and mobile numbers.', 'https://thenextweb.com/apps/2013/10/18/best-mobile-messaging-apps/')\n",
      "(4309994897452, 'NOTE: that each Mixer track has its own input and output options. For example, if you have an audio interface with 16 microphone inputs, then you have the option of setting 16 unique Mixer channels to receive each of these audio interface inputs. It is even possible to set two or more Mixer tracks to receive the same input or send to the same output.', 'https://www.image-line.com/support/FLHelp/html/mixer_iorouting.htm')\n"
     ]
    }
   ],
   "source": [
    "# Display a sample of records from the passages table\n",
    "cursor.execute(\"SELECT * FROM passages LIMIT 5\")\n",
    "print(\"Sample records from passages table:\")\n",
    "for row in cursor.fetchall():\n",
    "    print(row)\n"
   ]
  },
  {
   "cell_type": "code",
   "execution_count": 5,
   "metadata": {},
   "outputs": [
    {
     "name": "stdout",
     "output_type": "stream",
     "text": [
      "Sample records from query_passage_map table:\n",
      "(1185869, 5859993065373473891, 1)\n",
      "(1185869, 3368929332703746703, 0)\n",
      "(1185869, 4299757925664694107, 0)\n",
      "(1185869, 1399741489633820471, 0)\n",
      "(1185869, 6113971868499489140, 0)\n"
     ]
    }
   ],
   "source": [
    "# Display a sample of records from the query_passage_map table\n",
    "cursor.execute(\"SELECT * FROM query_passage_map LIMIT 5\")\n",
    "print(\"Sample records from query_passage_map table:\")\n",
    "for row in cursor.fetchall():\n",
    "    print(row)\n"
   ]
  },
  {
   "cell_type": "code",
   "execution_count": 6,
   "metadata": {},
   "outputs": [
    {
     "name": "stdout",
     "output_type": "stream",
     "text": [
      "Query text for query_id 19699 : ('aol-verizon mail',)\n",
      "Passages associated with query_id 19699 :\n",
      "('Access MSN (Hotmail), Yahoo, or AOL Email Account with Mobile Web*. Due to an industry change around internet privacy and security, you may be unable to access certain HTML secure pages (HTTPS/SSL) with Mobile Web. Additionally, effective 12/29/2016, My Verizon mobile, is inaccessible as a part of this change.', -1)\n",
      "('Yet Verizon’s bet on AOL is hardly guaranteed to play out in the way the companies intend. This is both because of the general difficulties associated with any merger and because the industry AOL is going after is in a state of constant flux.', -1)\n",
      "('AOL Mail for Verizon Customers. AOL Mail welcomes Verizon customers to our safe and delightful email experience! Check your Mail Try the AOL app. All AOL Mail for Verizon Customers Articles.', -1)\n",
      "('Access MSN (Hotmail), Yahoo, or AOL Email Account with Mobile Web*. Caution: Due to an industry change around internet privacy and security, you may be unable to access certain HTML secure pages (HTTPS/SSL) with Mobile Web. Additionally, effective 12/29/2016, My Verizon mobile, is inaccessible as a part of this change.', -1)\n",
      "('[ 0. Although Verizon’s $4.4 billion purchase of AOL was all about adding more content, video, and ad generation to the mobile communication company’s distribution platform, the acquisition could transform Verizon into a major email inbox provider, likely to the benefit of email marketers. Webmail Client.', -1)\n",
      "('Show 2 replies. 1  1. Re: AOL Email MarquiaF_VZW Feb 23, 2012 12:00 PM (in response to rogerohio) Rogerohio, I can certainly assist with your email issue on your Droid. Normally if you receive multiple force close errors on an application, that means that application has become corrupted in some way.', -1)\n",
      "('I continued to use the Yahoo email client for my Yahoo address & reconfigured my Gmail address on the Gmail client. I used the onboard corporate widget for my corporate email, but instead of using the onboard AOL client, I used OTHER..', -1)\n",
      "('Learn more about the Verizon.net email move to AOL Mail.', -1)\n",
      "('For Verizon and AOL, Mobile Is a Magic Word. Pedestrians in Midtown, communicating the modern way. In a memo to employees after announcing that Verizon Communications would buy his company for $4.4 billion, Tim Armstrong, AOL’s chief executive, offered a rhapsodic hymn on a single subject: mobile. The future of nearly all media, and consequently the future of nearly all advertising, he said, is about our phones.', -1)\n",
      "('Caution: 1  Due to an industry change around internet privacy and security, you may be unable to access certain HTML secure pages (HTTPS/SSL) with Mobile Web. 2  Additionally, effective 12/29/2016, My Verizon mobile, is inaccessible as a part of this change. 3  Select Email.  Select the appropriate email provider (MSN, Yahoo or AOL).', -1)\n"
     ]
    }
   ],
   "source": [
    "# Choose a sample query_id to verify the relationships\n",
    "sample_query_id = 19699  # Replace with an actual query_id from your dataset\n",
    "\n",
    "# Check the query text and associated passages\n",
    "cursor.execute(\"SELECT query_text FROM queries WHERE query_id = ?\", (sample_query_id,))\n",
    "print(\"Query text for query_id\", sample_query_id, \":\", cursor.fetchone())\n",
    "\n",
    "cursor.execute(\"\"\"\n",
    "    SELECT p.passage_text, qm.is_selected \n",
    "    FROM passages AS p\n",
    "    JOIN query_passage_map AS qm ON p.passage_id = qm.passage_id\n",
    "    WHERE qm.query_id = ?\n",
    "\"\"\", (sample_query_id,))\n",
    "print(\"Passages associated with query_id\", sample_query_id, \":\")\n",
    "for row in cursor.fetchall():\n",
    "    print(row)\n"
   ]
  },
  {
   "cell_type": "code",
   "execution_count": 3,
   "metadata": {},
   "outputs": [],
   "source": [
    "# Close the connection\n",
    "conn.close()\n"
   ]
  }
 ],
 "metadata": {
  "kernelspec": {
   "display_name": "two-tower",
   "language": "python",
   "name": "python3"
  },
  "language_info": {
   "codemirror_mode": {
    "name": "ipython",
    "version": 3
   },
   "file_extension": ".py",
   "mimetype": "text/x-python",
   "name": "python",
   "nbconvert_exporter": "python",
   "pygments_lexer": "ipython3",
   "version": "3.12.7"
  }
 },
 "nbformat": 4,
 "nbformat_minor": 2
}
